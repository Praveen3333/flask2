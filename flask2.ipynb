{
 "cells": [
  {
   "cell_type": "markdown",
   "id": "9d6c49d9-2551-43db-8bd7-5a901a0d3b68",
   "metadata": {},
   "source": [
    "### Q1. Explain GET and POST methods.\n",
    "\n",
    "**GET Method**: The GET method is used to request data from a specified resource. It sends the data as part of the URL, which is visible to everyone. GET requests are used for retrieving data from the server and should not be used for sensitive data or operations that modify the server state.\n",
    "\n",
    "**POST Method**: The POST method is used to submit data to be processed to a specified resource. It sends the data in the request body, which is not visible to users. POST requests are commonly used for submitting forms, uploading files, and performing operations that modify the server state.\n",
    "\n",
    "### Q2. Why is request used in Flask?\n",
    "\n",
    "The `request` object in Flask is used to access incoming request data such as form data, URL parameters, and request headers. It provides methods and attributes to access and manipulate the data sent by the client in the HTTP request. The `request` object allows Flask applications to process incoming requests and generate appropriate responses based on the request data.\n",
    "\n",
    "### Q3. Why is redirect() used in Flask?\n",
    "\n",
    "The `redirect()` function in Flask is used to redirect the client to a different URL. It generates an HTTP redirect response with the specified URL, instructing the client to navigate to the new location. `redirect()` is commonly used in Flask applications for performing URL redirections, such as after form submissions, authentication, or to handle route aliases.\n",
    "\n",
    "### Q4. What are templates in Flask? Why is the render_template() function used?\n",
    "\n",
    "**Templates** in Flask are HTML files that contain placeholders for dynamic content. They allow developers to separate the presentation logic (HTML markup) from the application logic (Python code) by defining reusable templates for generating dynamic web pages. Templates support placeholders (variables) and control structures (loops, conditionals) for generating dynamic content.\n",
    "\n",
    "The `render_template()` function in Flask is used to render HTML templates and pass dynamic data to them. It takes the name of the template file and optional variables as arguments, renders the template with the specified data, and returns the rendered HTML content. `render_template()` simplifies the process of generating HTML responses in Flask applications by integrating dynamic content with HTML templates.\n",
    "\n",
    "### Q5. Create a simple API. Use Postman to test it. Attach the screenshot of the output in the Jupyter Notebook.\n",
    "\n",
    "```python\n",
    "from flask import Flask, jsonify\n",
    "\n",
    "app = Flask(__name__)\n",
    "\n",
    "@app.route('/api/hello', methods=['GET'])\n",
    "def hello():\n",
    "    return jsonify({'message': 'Hello, world!'})\n",
    "\n",
    "if __name__ == '__main__':\n",
    "    app.run(debug=True)\n",
    "```\n",
    "\n",
    "To test the API using Postman:\n",
    "1. Open Postman and create a new request.\n",
    "2. Set the request method to GET.\n",
    "3. Enter the URL of the Flask API endpoint (`http://localhost:5000/api/hello`).\n",
    "4. Send the request.\n",
    "5. Verify the response returned by the API.\n"
   ]
  },
  {
   "cell_type": "code",
   "execution_count": null,
   "id": "83cccbc5-1e5f-40f6-8f5f-f0818cae7069",
   "metadata": {},
   "outputs": [],
   "source": [
    "\n"
   ]
  }
 ],
 "metadata": {
  "kernelspec": {
   "display_name": "Python 3 (ipykernel)",
   "language": "python",
   "name": "python3"
  },
  "language_info": {
   "codemirror_mode": {
    "name": "ipython",
    "version": 3
   },
   "file_extension": ".py",
   "mimetype": "text/x-python",
   "name": "python",
   "nbconvert_exporter": "python",
   "pygments_lexer": "ipython3",
   "version": "3.10.8"
  }
 },
 "nbformat": 4,
 "nbformat_minor": 5
}
